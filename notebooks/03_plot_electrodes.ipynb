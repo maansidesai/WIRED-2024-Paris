{
 "cells": [
  {
   "cell_type": "markdown",
   "id": "5dce6adc",
   "metadata": {},
   "source": [
    "# Preprocessing intracranial EEG using MNE-python\n",
    "\n",
    "\n",
    "*WIRED 2024*  \n",
    "[Maansi Desai, PhD](https://maansidesai.github.io/)  \n",
    "Postdoctoral Researcher in the [Hamilton Lab](https://slhs.utexas.edu/research/hamilton-lab)\n",
    "<br>\n",
    "Department of Speech, Language, and Hearing Sciences \n",
    "<br>\n",
    "The University of Texas at Austin \n",
    "\n",
    "## Part 3: Plotting electrodes on brain using MNE brain.viz function\n"
   ]
  },
  {
   "cell_type": "code",
   "execution_count": null,
   "id": "8cb884ac",
   "metadata": {},
   "outputs": [],
   "source": [
    "# %matplotlib notebook\n",
    "\n",
    "import mne\n",
    "from matplotlib import pyplot as plt\n",
    "import numpy as np\n",
    "import pandas as pd\n",
    "import os\n",
    "from mne_bids import read_raw_bids, print_dir_tree, BIDSPath\n",
    "from mne_bids.path import get_bids_path_from_fname\n",
    "from bids import BIDSLayout\n",
    "from ecog_preproc_utils import transformData\n",
    "import bids \n",
    "import re  # regex for comparing channel names"
   ]
  },
  {
   "cell_type": "markdown",
   "id": "227f2b5d",
   "metadata": {},
   "source": [
    "## Download BIDS iEEG dataset\n",
    "\n",
    "Here we will download an example iEEG dataset from [this dataset from the Hamilton lab](https://openneuro.org/datasets/ds004993/versions/1.1.1). If you have ran [`01_ieeg_preprocessing_MNE`](01_ieeg_preprocessing_MNE) and [`02_ieeg_preprocessing_MNE_epochs.ipynb`](02_ieeg_preprocessing_MNE_epochs.ipynb), then you should already have downloaded the necessary datasets locally. \n",
    "\n",
    "For this notebook we will use data from: \n",
    " - `sub-W1`, `iemu`, `B3`, `movietrailers`\n",
    " - `sub-W2`, `iemu`, `B8`, `timit5`\n",
    " - `sub-W3`, `iemu`, `B8`, `timit4`"
   ]
  },
  {
   "cell_type": "code",
   "execution_count": null,
   "id": "3661b792",
   "metadata": {},
   "outputs": [],
   "source": [
    "# This is the example participant's data that we will load for the tutorial,\n",
    "# but there are more options.\n",
    "subj = 'W2'\n",
    "sess = 'iemu'\n",
    "task = 'timit5'\n",
    "acq = 'B8'\n",
    "run = '01'"
   ]
  },
  {
   "cell_type": "code",
   "execution_count": null,
   "id": "7f1a05d2",
   "metadata": {},
   "outputs": [],
   "source": [
    "import mne_bids\n",
    "mne_bids.__version__"
   ]
  },
  {
   "cell_type": "code",
   "execution_count": null,
   "id": "2655a1e4",
   "metadata": {},
   "outputs": [],
   "source": [
    "# Change the data directory below to where your data are located. \n",
    "parent_dir = 'data/ds004993'  # This is on your local machine\n",
    "\n",
    "bids_path = BIDSPath(\n",
    "    root=parent_dir, subject=subj, session=sess, task=task, acquisition=acq, run=run, datatype=\"ieeg\"\n",
    ")\n",
    "print(bids_path)"
   ]
  },
  {
   "cell_type": "markdown",
   "id": "0c9faf41",
   "metadata": {},
   "source": [
    "## BIDS layout\n",
    "\n",
    "We can use `pybids` to show a little bit about the files in this BIDS dataset. We won't get as much into this, but if you'd like to try this tutorial on your own you may wish to delve into this more."
   ]
  },
  {
   "cell_type": "code",
   "execution_count": null,
   "id": "953df68c",
   "metadata": {},
   "outputs": [],
   "source": [
    "layout = BIDSLayout(parent_dir)"
   ]
  },
  {
   "cell_type": "code",
   "execution_count": null,
   "id": "2d328249",
   "metadata": {},
   "outputs": [],
   "source": [
    "layout.get_tasks()"
   ]
  },
  {
   "cell_type": "code",
   "execution_count": null,
   "id": "e9cb681f",
   "metadata": {},
   "outputs": [],
   "source": [
    "all_files = layout.get()\n",
    "print(\"There are {} files in the layout.\".format(len(all_files)))\n",
    "print(\"\\nThe first 10 files are:\")\n",
    "all_files[:10]"
   ]
  },
  {
   "cell_type": "code",
   "execution_count": null,
   "id": "1d0587e1",
   "metadata": {},
   "outputs": [],
   "source": [
    "print_dir_tree(parent_dir, max_depth=3)"
   ]
  },
  {
   "cell_type": "markdown",
   "id": "a0da51ef",
   "metadata": {},
   "source": [
    "## Let's load some iEEG data!"
   ]
  },
  {
   "cell_type": "code",
   "execution_count": null,
   "id": "a4431118",
   "metadata": {},
   "outputs": [],
   "source": [
    "# Read data and extract parameters from BIDS files\n",
    "raw = read_raw_bids(bids_path, verbose=True)"
   ]
  },
  {
   "cell_type": "markdown",
   "id": "46b55eb0",
   "metadata": {},
   "source": [
    "# Electrodes on the brain\n"
   ]
  },
  {
   "cell_type": "code",
   "execution_count": null,
   "id": "55f338cf",
   "metadata": {},
   "outputs": [],
   "source": [
    "brain_kwargs = dict(alpha=0.1, background=\"white\", view='split',cortex=\"low_contrast\")\n",
    "brain = mne.viz.Brain(f'sub-{subj}', surf='pial', subjects_dir=f'{parent_dir}/freesurfer', alpha=0.5,\n",
    "                      background='white')\n",
    "trans = mne.read_trans(f'{parent_dir}/freesurfer/sub-{subj}/bem/sub-{subj}_head-trans.fif')\n",
    "brain.add_sensors(raw.info, trans=trans)"
   ]
  },
  {
   "cell_type": "code",
   "execution_count": null,
   "id": "c62e7a5b",
   "metadata": {},
   "outputs": [],
   "source": []
  }
 ],
 "metadata": {
  "kernelspec": {
   "display_name": "Python 3 (ipykernel)",
   "language": "python",
   "name": "python3"
  },
  "language_info": {
   "codemirror_mode": {
    "name": "ipython",
    "version": 3
   },
   "file_extension": ".py",
   "mimetype": "text/x-python",
   "name": "python",
   "nbconvert_exporter": "python",
   "pygments_lexer": "ipython3",
   "version": "3.11.3"
  }
 },
 "nbformat": 4,
 "nbformat_minor": 5
}
