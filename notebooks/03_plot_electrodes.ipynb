{
 "cells": [
  {
   "cell_type": "markdown",
   "id": "5dce6adc",
   "metadata": {},
   "source": [
    "# Preprocessing intracranial EEG using MNE-python\n",
    "\n",
    "\n",
    "*WIRED 2024*  \n",
    "[Maansi Desai, PhD](https://maansidesai.github.io/)  \n",
    "Postdoctoral Researcher in the [Hamilton Lab](https://slhs.utexas.edu/research/hamilton-lab)\n",
    "<br>\n",
    "Department of Speech, Language, and Hearing Sciences \n",
    "<br>\n",
    "The University of Texas at Austin \n",
    "\n",
    "## Part 3: Plotting electrodes on brain using MNE brain.viz function\n"
   ]
  },
  {
   "cell_type": "code",
   "execution_count": 1,
   "id": "8cb884ac",
   "metadata": {},
   "outputs": [],
   "source": [
    "%matplotlib notebook\n",
    "\n",
    "import mne\n",
    "from matplotlib import pyplot as plt\n",
    "import numpy as np\n",
    "import pandas as pd\n",
    "import os\n",
    "from mne_bids import read_raw_bids, print_dir_tree\n",
    "from mne_bids.path import get_bids_path_from_fname\n",
    "from bids import BIDSLayout\n",
    "from ecog_preproc_utils import transformData\n",
    "import bids \n",
    "import re  # regex for comparing channel names"
   ]
  },
  {
   "cell_type": "markdown",
   "id": "227f2b5d",
   "metadata": {},
   "source": [
    "## Download BIDS iEEG dataset\n",
    "\n",
    "Here we will download an example iEEG dataset from [this dataset from the Hamilton lab](https://openneuro.org/datasets/ds004993/versions/1.1.1). If you have ran [`01_ieeg_preprocessing_MNE`](01_ieeg_preprocessing_MNE) and [`02_ieeg_preprocessing_MNE_epochs.ipynb`](02_ieeg_preprocessing_MNE_epochs.ipynb), then you should already have downloaded the necessary datasets locally. \n",
    "\n",
    "For this notebook we will use data from: \n",
    " - `sub-W1`, `iemu`, `B3`, `movietrailers`\n",
    " - `sub-W2`, `iemu`, `B8`, `timit5`\n",
    " - `sub-W3`, `iemu`, `B8`, `timit4`"
   ]
  },
  {
   "cell_type": "code",
   "execution_count": 2,
   "id": "3661b792",
   "metadata": {},
   "outputs": [],
   "source": [
    "# This is the example participant's data that we will load for the tutorial,\n",
    "# but there are more options.\n",
    "subj = 'W2'\n",
    "sess = 'iemu'\n",
    "task = 'timit5'\n",
    "acq = 'B8'\n",
    "run = '01'"
   ]
  },
  {
   "cell_type": "code",
   "execution_count": 3,
   "id": "7f1a05d2",
   "metadata": {},
   "outputs": [
    {
     "data": {
      "text/plain": [
       "'0.10'"
      ]
     },
     "execution_count": 3,
     "metadata": {},
     "output_type": "execute_result"
    }
   ],
   "source": [
    "import mne_bids\n",
    "mne_bids.__version__"
   ]
  },
  {
   "cell_type": "code",
   "execution_count": 4,
   "id": "2655a1e4",
   "metadata": {},
   "outputs": [],
   "source": [
    "# Change the data directory below to where your data are located. \n",
    "parent_dir = 'data/ds004993'  # This is on your local machine\n",
    "\n",
    "ieeg_dir = f'{parent_dir}/sub-{subj}/ses-{sess}/ieeg/'\n",
    "channel_path = f'{ieeg_dir}/sub-{subj}_ses-{sess}_task-{task}_acq-{acq}_run-{run}_channels.tsv'\n",
    "raw_path = f'{ieeg_dir}/sub-{subj}_ses-{sess}_task-{task}_acq-{acq}_run-{run}_ieeg.edf'\n",
    "\n",
    "bids_path = get_bids_path_from_fname(raw_path)\n",
    "base_name = os.path.basename(raw_path).split('.')[0]"
   ]
  },
  {
   "cell_type": "markdown",
   "id": "0c9faf41",
   "metadata": {},
   "source": [
    "## BIDS layout\n",
    "\n",
    "We can use `pybids` to show a little bit about the files in this BIDS dataset. We won't get as much into this, but if you'd like to try this tutorial on your own you may wish to delve into this more."
   ]
  },
  {
   "cell_type": "code",
   "execution_count": 5,
   "id": "953df68c",
   "metadata": {},
   "outputs": [],
   "source": [
    "layout = BIDSLayout(parent_dir)"
   ]
  },
  {
   "cell_type": "code",
   "execution_count": 6,
   "id": "2d328249",
   "metadata": {},
   "outputs": [
    {
     "data": {
      "text/plain": [
       "['movietrailers', 'timit5', 'timit4']"
      ]
     },
     "execution_count": 6,
     "metadata": {},
     "output_type": "execute_result"
    }
   ],
   "source": [
    "layout.get_tasks()"
   ]
  },
  {
   "cell_type": "code",
   "execution_count": 7,
   "id": "e9cb681f",
   "metadata": {},
   "outputs": [
    {
     "name": "stdout",
     "output_type": "stream",
     "text": [
      "There are 30 files in the layout.\n",
      "\n",
      "The first 10 files are:\n"
     ]
    },
    {
     "data": {
      "text/plain": [
       "[<BIDSFile filename='/Users/maansidesai/Desktop/git/WIRED-2024-Paris/notebooks/data/ds004993/CHANGES'>,\n",
       " <BIDSJSONFile filename='/Users/maansidesai/Desktop/git/WIRED-2024-Paris/notebooks/data/ds004993/dataset_description.json'>,\n",
       " <BIDSJSONFile filename='/Users/maansidesai/Desktop/git/WIRED-2024-Paris/notebooks/data/ds004993/participants.json'>,\n",
       " <BIDSDataFile filename='/Users/maansidesai/Desktop/git/WIRED-2024-Paris/notebooks/data/ds004993/participants.tsv'>,\n",
       " <BIDSFile filename='/Users/maansidesai/Desktop/git/WIRED-2024-Paris/notebooks/data/ds004993/README'>,\n",
       " <BIDSDataFile filename='/Users/maansidesai/Desktop/git/WIRED-2024-Paris/notebooks/data/ds004993/sub-W1/ses-iemu/ieeg/sub-W1_ses-iemu_task-movietrailers_acq-B3_run-01_channels.tsv'>,\n",
       " <BIDSJSONFile filename='/Users/maansidesai/Desktop/git/WIRED-2024-Paris/notebooks/data/ds004993/sub-W1/ses-iemu/ieeg/sub-W1_ses-iemu_task-movietrailers_acq-B3_run-01_coordsystem.json'>,\n",
       " <BIDSDataFile filename='/Users/maansidesai/Desktop/git/WIRED-2024-Paris/notebooks/data/ds004993/sub-W1/ses-iemu/ieeg/sub-W1_ses-iemu_task-movietrailers_acq-B3_run-01_electrodes.tsv'>,\n",
       " <BIDSDataFile filename='/Users/maansidesai/Desktop/git/WIRED-2024-Paris/notebooks/data/ds004993/sub-W1/ses-iemu/ieeg/sub-W1_ses-iemu_task-movietrailers_acq-B3_run-01_events.tsv'>,\n",
       " <BIDSFile filename='/Users/maansidesai/Desktop/git/WIRED-2024-Paris/notebooks/data/ds004993/sub-W1/ses-iemu/ieeg/sub-W1_ses-iemu_task-movietrailers_acq-B3_run-01_ieeg.edf'>]"
      ]
     },
     "execution_count": 7,
     "metadata": {},
     "output_type": "execute_result"
    }
   ],
   "source": [
    "all_files = layout.get()\n",
    "print(\"There are {} files in the layout.\".format(len(all_files)))\n",
    "print(\"\\nThe first 10 files are:\")\n",
    "all_files[:10]"
   ]
  },
  {
   "cell_type": "code",
   "execution_count": 8,
   "id": "1d0587e1",
   "metadata": {},
   "outputs": [
    {
     "name": "stdout",
     "output_type": "stream",
     "text": [
      "|ds004993/\n",
      "|--- .DS_Store\n",
      "|--- .bidsignore\n",
      "|--- CHANGES\n",
      "|--- README\n",
      "|--- dataset_description.json\n",
      "|--- participants.json\n",
      "|--- participants.tsv\n",
      "|--- freesurfer/\n",
      "|------ sub-W1/\n",
      "|--------- W1_lateral_lh.png\n",
      "|--------- W1_lateral_rh.png\n",
      "|--------- W1_ventral.png\n",
      "|--------- bem/\n",
      "|--------- surf/\n",
      "|------ sub-W2/\n",
      "|--------- W2_lateral_rh.png\n",
      "|--------- W2_ventral_rh.png\n",
      "|--------- bem/\n",
      "|--------- surf/\n",
      "|------ sub-W3/\n",
      "|--------- W3_frontal.png\n",
      "|--------- W3_lateral_lh.png\n",
      "|--------- W3_lateral_rh.png\n",
      "|--------- bem/\n",
      "|--------- surf/\n",
      "|--- sub-W1/\n",
      "|------ .DS_Store\n",
      "|------ ses-iemu/\n",
      "|--------- .DS_Store\n",
      "|--------- sub-W1_ses-iemu_scans.tsv\n",
      "|--------- ieeg/\n",
      "|------ ses-mri/\n",
      "|--------- anat/\n",
      "|--- sub-W2/\n",
      "|------ .DS_Store\n",
      "|------ ses-iemu/\n",
      "|--------- .DS_Store\n",
      "|--------- sub-W2_ses-iemu_scans.tsv\n",
      "|--------- ieeg/\n",
      "|------ ses-mri/\n",
      "|--------- anat/\n",
      "|--- sub-W3/\n",
      "|------ .DS_Store\n",
      "|------ ses-iemu/\n",
      "|--------- .DS_Store\n",
      "|--------- sub-W3_ses-iemu_scans.tsv\n",
      "|--------- ieeg/\n",
      "|------ ses-mri/\n",
      "|--------- anat/\n"
     ]
    }
   ],
   "source": [
    "print_dir_tree(parent_dir, max_depth=3)"
   ]
  },
  {
   "cell_type": "markdown",
   "id": "a0da51ef",
   "metadata": {},
   "source": [
    "## Let's load some iEEG data!\n",
    "\n",
    "First, we will choose the relevant subject, session, task, acquisition, and run. Note that if you wish to change these variables, you may need to download the data yourself.\n",
    "\n",
    "To show the capabilities of BIDS and contrast to when we don't use BIDS, we'll load the data in two ways. The data structure using BIDS will be called `raw`, the data structure without BIDS will be `raw_nobids`."
   ]
  },
  {
   "cell_type": "code",
   "execution_count": 9,
   "id": "a4431118",
   "metadata": {},
   "outputs": [
    {
     "name": "stdout",
     "output_type": "stream",
     "text": [
      "Extracting EDF parameters from /Users/maansidesai/Desktop/git/WIRED-2024-Paris/notebooks/data/ds004993/sub-W2/ses-iemu/ieeg/sub-W2_ses-iemu_task-timit5_acq-B8_run-01_ieeg.edf...\n",
      "EDF file detected\n",
      "Setting channel info structure...\n",
      "Creating raw.info structure...\n",
      "Reading events from data/ds004993/sub-W2/ses-iemu/ieeg/sub-W2_ses-iemu_task-timit5_acq-B8_run-01_events.tsv.\n",
      "Reading channel info from data/ds004993/sub-W2/ses-iemu/ieeg/sub-W2_ses-iemu_task-timit5_acq-B8_run-01_channels.tsv.\n",
      "Reading electrode coords from data/ds004993/sub-W2/ses-iemu/ieeg/sub-W2_ses-iemu_task-timit5_acq-B8_run-01_electrodes.tsv.\n"
     ]
    },
    {
     "name": "stderr",
     "output_type": "stream",
     "text": [
      "/var/folders/03/nrm13jr11b734k78bp62stg80000gq/T/ipykernel_10470/531307012.py:2: RuntimeWarning: Omitted 102 annotation(s) that were outside data range.\n",
      "  raw = read_raw_bids(bids_path, verbose=True)\n"
     ]
    }
   ],
   "source": [
    "# Read data and extract parameters from BIDS files\n",
    "raw = read_raw_bids(bids_path, verbose=True)"
   ]
  },
  {
   "cell_type": "markdown",
   "id": "46b55eb0",
   "metadata": {},
   "source": [
    "# Electrodes on the brain\n"
   ]
  },
  {
   "cell_type": "code",
   "execution_count": 10,
   "id": "55f338cf",
   "metadata": {},
   "outputs": [
    {
     "name": "stdout",
     "output_type": "stream",
     "text": [
      "Using pyvistaqt 3d backend.\n",
      "\n",
      "Channel types::\tseeg: 106\n"
     ]
    }
   ],
   "source": [
    "brain_kwargs = dict(alpha=0.1, background=\"white\", view='split',cortex=\"low_contrast\")\n",
    "brain = mne.viz.Brain(f'sub-{subj}', surf='pial', subjects_dir=f'{parent_dir}/freesurfer', alpha=0.5,\\\n",
    "                      background='white')\n",
    "trans = mne.read_trans(f'{parent_dir}/freesurfer/sub-{subj}/bem/sub-{subj}_head-trans.fif')\n",
    "brain.add_sensors(raw.info, trans=trans)"
   ]
  },
  {
   "cell_type": "code",
   "execution_count": null,
   "id": "c62e7a5b",
   "metadata": {},
   "outputs": [],
   "source": []
  }
 ],
 "metadata": {
  "kernelspec": {
   "display_name": "Python [conda env:.mne-python]",
   "language": "python",
   "name": "conda-env-.mne-python-py"
  },
  "language_info": {
   "codemirror_mode": {
    "name": "ipython",
    "version": 3
   },
   "file_extension": ".py",
   "mimetype": "text/x-python",
   "name": "python",
   "nbconvert_exporter": "python",
   "pygments_lexer": "ipython3",
   "version": "3.10.4"
  }
 },
 "nbformat": 4,
 "nbformat_minor": 5
}
