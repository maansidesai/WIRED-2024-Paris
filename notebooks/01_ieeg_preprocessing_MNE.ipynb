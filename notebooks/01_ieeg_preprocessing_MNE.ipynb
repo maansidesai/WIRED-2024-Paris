{
 "cells": [
  {
   "cell_type": "markdown",
   "id": "5dce6adc",
   "metadata": {},
   "source": [
    "# Preprocessing intracranial EEG using MNE-python\n",
    "\n",
    "\n",
    "*WIRED 2024*  \n",
    "[Maansi Desai, PhD](https://maansidesai.github.io/)  \n",
    "Postdoctoral Researcher in the [Hamilton Lab](https://slhs.utexas.edu/research/hamilton-lab)\n",
    "<br>\n",
    "Department of Speech, Language, and Hearing Sciences \n",
    "<br>\n",
    "The University of Texas at Austin \n",
    "\n",
    "## Part 1: Loading, Plotting, and Referencing\n",
    "This notebook will show you how to preprocess intracranial EEG using MNE-python. This uses an iEEG dataset on sentence listening which can be accessed [here](https://openneuro.org/datasets/ds003688/versions/1.0.7/metadata). This notebook covers the basics of how to look at iEEG data, interpret effects of referencing, and inspect data quality. In part 2, we will cover high gamma extraction and referencing. The method of high gamma extraction is identical to that used in [Hamilton et al. 2018](https://doi.org/10.1016/j.cub.2018.04.033) and [Hamilton et al. 2021](https://doi.org/10.1016/j.cell.2021.07.019).\n",
    "\n",
    "## Python libraries used in this tutorial\n",
    "\n",
    "* matplotlib\n",
    "* mne_bids\n",
    "* [MNE-python](https://mne.tools/stable/install/index.html)\n",
    "* numpy\n",
    "* pandas\n",
    "* pybids\n",
    "\n",
    "## What you will do in this tutorial\n",
    "\n",
    "* Load an iEEG dataset in MNE-python\n",
    "* Compare iEEG dataset with BIDs metadata vs. without so you know what to do if you encounter data without this info\n",
    "* Plot the power spectrum of the data to check for bad channels and compare channel types\n",
    "* Re-reference the data according to different reference schemes\n",
    "\n",
    "### part 2! ([`02_ieeg_preprocessing_MNE_epochs.ipynb`](02_ieeg_preprocessing_MNE_epochs.ipynb))\n",
    "* Compute the high gamma analytic amplitude of the signal\n",
    "* Plot evoked data\n",
    "\n",
    "### part 3! ([`03_plot_electrodes.ipynb`](03_plot_electrodes.ipynb)) -- visualization tool [optional]\n",
    "* load electrode coordinates stored in imaging from BIDS data and plot location on the brain for visualization purposes"
   ]
  },
  {
   "cell_type": "markdown",
   "id": "a48e3af5",
   "metadata": {},
   "source": [
    "# A high-level summary for preprocessing intracranial data\n",
    "\n",
    "### Frequency Bands\n",
    "\n",
    "EEG records neural responses best in the range of 1-25Hz (recall our PSD plots from last notebook). However, ECoG can record from a much higher range of frequency, up into gamma and high gamma (70-150Hz) bands. This is especially exciting for us speech researchers, because high-gamma band activity has been correlated with a lot of speech stimuli!\n",
    "\n",
    "However, to extract high gamma response we need to do something called a Hilbert transform. We'll talk more about that in `02_ieeg_preprocessing_MNE_epochs` notebook. \n",
    "\n",
    "### Artifacts\n",
    "\n",
    "ECoG is invasive, that is, it's placed directly on the surface of the brain (or in the brain, in the case of depth electrodes). Some of the artifacts we may encounter are related to the patient's epilepsy or other movement-related noise. We'll go over examples of what these artifacts look like. \n",
    "\n",
    "### Referencing\n",
    "\n",
    "There are different methods that people use for rereferencing intracranial data. For sEEG/ECoG instead we use a common average reference (CAR), which means we are referencing based on the average activity at all electrodes. But we will go over a couple of rereferencing methods and will plot the neural data to give you an idea of how the data look. "
   ]
  },
  {
   "cell_type": "code",
   "execution_count": null,
   "id": "8cb884ac",
   "metadata": {},
   "outputs": [],
   "source": [
    "%matplotlib notebook\n",
    "#%matplotlib tk\n",
    "\n",
    "import mne\n",
    "from matplotlib import pyplot as plt\n",
    "import numpy as np\n",
    "import pandas as pd\n",
    "import os\n",
    "from mne_bids import read_raw_bids, print_dir_tree\n",
    "from mne_bids.path import get_bids_path_from_fname\n",
    "from bids import BIDSLayout\n",
    "from ecog_preproc_utils import transformData\n",
    "import bids \n",
    "import re  # regex for comparing channel names\n",
    "\n",
    "print(mne.__version__)"
   ]
  },
  {
   "cell_type": "markdown",
   "id": "227f2b5d",
   "metadata": {},
   "source": [
    "## Download BIDS iEEG dataset\n",
    "\n",
    "Here we will download an example iEEG dataset from some [pediatric intracranial data collected from the Hamilton Lab] (https://openneuro.org/datasets/ds004993/versions/1.0.2). \n",
    "\n",
    "For this tutorial we will use data from: \n",
    " - `sub-W1`, `iemu` data only, for detecting seizure activity. \n",
    " - `sub-W2`, `iemu` data only, for epoching data to the onset of the speech stimuli (from the [TIMIT speech corpus](https://catalog.ldc.upenn.edu/LDC93S1)) and plotting the evoked responses in the `02_ieeg_preprocessing_MNE_epochs` notebook. \n",
    " - `sub-W3`, `iemu` data only, for detecting artifacts from a vagus nerve stimulator (VNS)"
   ]
  },
  {
   "cell_type": "code",
   "execution_count": null,
   "id": "3661b792",
   "metadata": {},
   "outputs": [],
   "source": [
    "# This is the example participant's data that we will load for the tutorial,\n",
    "# but there are more options.\n",
    "subj = 'W2'\n",
    "sess = 'iemu'\n",
    "task = 'timit5'\n",
    "acq = 'B8'\n",
    "run = '01'\n",
    "\n",
    "# Change the data directory below to where your data are located. \n",
    "parent_dir = 'data/ds004993'  # This is on your local machine"
   ]
  },
  {
   "cell_type": "code",
   "execution_count": null,
   "id": "2655a1e4",
   "metadata": {},
   "outputs": [],
   "source": [
    "\n",
    "\n",
    "ieeg_dir = f'{parent_dir}/sub-{subj}/ses-{sess}/ieeg/'\n",
    "channel_path = f'{ieeg_dir}/sub-{subj}_ses-{sess}_task-{task}_acq-{acq}_run-{run}_channels.tsv'\n",
    "raw_path = f'{ieeg_dir}/sub-{subj}_ses-{sess}_task-{task}_acq-{acq}_run-{run}_ieeg.edf'\n",
    "\n",
    "\n",
    "bids_path = get_bids_path_from_fname(raw_path)\n",
    "base_name = os.path.basename(raw_path).split('.')[0]\n",
    "\n",
    "print(bids_path)\n",
    "\n"
   ]
  },
  {
   "cell_type": "markdown",
   "id": "0c9faf41",
   "metadata": {},
   "source": [
    "## BIDS layout\n",
    "\n",
    "We can use `pybids` to show a little bit about the files in this BIDS dataset. We won't get as much into this, but if you'd like to try this tutorial on your own you may wish to delve into this more."
   ]
  },
  {
   "cell_type": "code",
   "execution_count": null,
   "id": "953df68c",
   "metadata": {},
   "outputs": [],
   "source": [
    "layout = BIDSLayout(parent_dir)"
   ]
  },
  {
   "cell_type": "code",
   "execution_count": null,
   "id": "2d328249",
   "metadata": {},
   "outputs": [],
   "source": [
    "layout.get_tasks()"
   ]
  },
  {
   "cell_type": "code",
   "execution_count": null,
   "id": "e9cb681f",
   "metadata": {},
   "outputs": [],
   "source": [
    "all_files = layout.get()\n",
    "print(\"There are {} files in the layout.\".format(len(all_files)))\n",
    "print(\"\\nThe first 10 files are:\")\n",
    "all_files[:10]"
   ]
  },
  {
   "cell_type": "code",
   "execution_count": null,
   "id": "1d0587e1",
   "metadata": {},
   "outputs": [],
   "source": [
    "print_dir_tree(parent_dir, max_depth=3)"
   ]
  },
  {
   "cell_type": "markdown",
   "id": "a0da51ef",
   "metadata": {},
   "source": [
    "## Let's load some iEEG data!\n",
    "\n",
    "First, we will choose the relevant subject, session, task, acquisition, and run. Note that if you wish to change these variables, you may need to download the data yourself.\n",
    "\n",
    "To show the capabilities of BIDS and contrast to when we don't use BIDS, we'll load the data in two ways. The data structure using BIDS will be called `raw`."
   ]
  },
  {
   "cell_type": "code",
   "execution_count": null,
   "id": "a4431118",
   "metadata": {},
   "outputs": [],
   "source": [
    "# Read data and extract parameters from BIDS files\n",
    "#raw = read_raw_bids(bids_path, verbose=True)\n",
    "print(raw_path)\n",
    "raw = mne.io.read_raw_edf(raw_path, preload=True)"
   ]
  },
  {
   "cell_type": "code",
   "execution_count": null,
   "id": "5f183f73",
   "metadata": {},
   "outputs": [],
   "source": [
    "# Let's load the data into memory and print some information about it. The \n",
    "# info structure contains a lot of helpful metadata about number of channels,\n",
    "# sampling rate, data types, etc. It can also contain information about the\n",
    "# participant and date of acquisition, however, this dataset has been anonymized.\n",
    "raw.load_data()\n",
    "raw.info"
   ]
  },
  {
   "cell_type": "code",
   "execution_count": null,
   "id": "12cad9f0",
   "metadata": {
    "scrolled": true
   },
   "outputs": [],
   "source": [
    "raw.info['ch_names']"
   ]
  },
  {
   "cell_type": "markdown",
   "id": "cbfb13c7",
   "metadata": {},
   "source": [
    "## Plot the raw data\n",
    "\n",
    "Let's first inspect the raw data to see how it looks, what type of information we have, and whether we can immediately see any bad channels or bad time segments that should be rejected. Typically this portion should be done interactively so you can scroll through the data using the arrow keys. \n",
    "\n",
    "We will compare and contrast the data loaded using MNE BIDS (`raw`) versus the data loaded without this information (`raw_nodbids`)."
   ]
  },
  {
   "cell_type": "code",
   "execution_count": null,
   "id": "c8ebbcf7-e6c1-48b7-988a-4ae59240c757",
   "metadata": {},
   "outputs": [],
   "source": [
    "raw.plot(scalings='auto', color=dict(eeg='b', ecog='b'), n_channels=64, block=True)"
   ]
  },
  {
   "cell_type": "markdown",
   "id": "ad7eacff-281c-4cea-81d6-ab40ce9e5b4c",
   "metadata": {},
   "source": [
    "## Plot the power spectrum\n",
    "\n",
    "Now we will plot the power spectrum of the signal to give us an idea of the signals we're getting. Bad channels (or channels that are not EEG/ECoG) will often have a very different power spectrum than the good channels. These will show up as highly outside the range of the other channels (either flat, or much higher/lower power)."
   ]
  },
  {
   "cell_type": "code",
   "execution_count": null,
   "id": "4cc514b6-ed0e-4e69-99ff-8fe3bc4e4476",
   "metadata": {},
   "outputs": [],
   "source": [
    "raw.compute_psd().plot(picks='data', exclude=[]);\n",
    "\n"
   ]
  },
  {
   "cell_type": "code",
   "execution_count": null,
   "id": "798d3c6d-4669-4ddd-9fcc-12620b5cd473",
   "metadata": {},
   "outputs": [],
   "source": [
    "# If we want to see other options we have for computing the power spectrum, \n",
    "# we can consult the help function\n",
    "raw.compute_psd?"
   ]
  },
  {
   "cell_type": "markdown",
   "id": "0c552534-385a-4d72-830a-25219205c3e9",
   "metadata": {},
   "source": [
    "## Referencing\n",
    "\n",
    "Referencing or re-referencing your data should be done with some knowledge of your recording setup and what you wish to measure. You can read more about referencing [here (for EEG)](https://pressrelease.brainproducts.com/referencing/#:~:text=The%20reference%20influences%20the%20amplitude,affected%20by%20similar%20electrical%20activity.). Typically, experimenters will choose one of the following references:\n",
    "\n",
    "1. Based on a single electrode in white matter (or relatively \"quiet\" electrode far away from your signals of interest. \n",
    "2. Based on the average of all electrodes or a block of electrodes (CAR or Common Average Reference). Note that the CAR is *not* a good idea if all of your electrodes are within a single functional area, as you will likely subtract out more signal than noise. \n",
    "3. Bipolar referencing, in which pairs of adjacent electrodes are subtracted to calculate more local signals. This is a bit more complicated but allows you to work with data in a single region without the drawbacks of the CAR."
   ]
  },
  {
   "cell_type": "code",
   "execution_count": null,
   "id": "6819b3ae-74b3-4b15-82bd-3a1317c9a10f",
   "metadata": {},
   "outputs": [],
   "source": [
    "# Example of single reference channel - this subtracts the signal from this channel\n",
    "# from all other channels (including itself), so the reference will appear as a flat\n",
    "# line after this step\n",
    "raw_ref = raw.copy()\n",
    "raw_ref.set_eeg_reference(ref_channels = ['RAC12'], ) #Here we are just picking a channel that looks relatively noise-free \n",
    "raw_ref.plot(scalings='auto', color=dict(eeg='b', ecog='b'), n_channels=64, block=False)"
   ]
  },
  {
   "cell_type": "code",
   "execution_count": null,
   "id": "a168a192-0955-4f60-8269-6967d284e79e",
   "metadata": {},
   "outputs": [],
   "source": [
    "# Example of common average reference. The common average reference subtracts the average\n",
    "# signal across all *good* channels from every single channel. This is typically a good\n",
    "# choice for removing noise across all channels (for example, sometimes EMG from chewing,\n",
    "# some movement artifacts, electrical noise).\n",
    "raw_ref_car = raw.copy()\n",
    "raw_ref_car.set_eeg_reference(ref_channels = 'average')\n",
    "raw_ref_car.plot(scalings='auto', color=dict(eeg='b', ecog='b'), n_channels=64, block=False)"
   ]
  },
  {
   "cell_type": "markdown",
   "id": "2a6d2261-53ab-4dca-b9c6-7431b6f5b369",
   "metadata": {},
   "source": [
    "## Bipolar reference\n",
    "\n",
    "Bipolar referencing is a bit trickier and is not fully implemented here. You need to use knowledge of the physical locations of the electrodes to properly create the bipolar montage. For example, in the image below, we would need to use the knowledge of how the electrodes are placed in order to create the appropriate pairs for the anode and cathode.\n",
    "\n",
    "![sub-06 electrode locations](sub-06_ses-iemu_acq-render_photo_ecog_left.jpeg)"
   ]
  },
  {
   "cell_type": "code",
   "execution_count": null,
   "id": "0b93fe3c-905c-4569-8da1-081a5559c91e",
   "metadata": {},
   "outputs": [],
   "source": [
    "# Example of bipolar reference. This would normally be done with some manual\n",
    "# intervention of the specific channel pairs. \n",
    "raw_ieeg = raw.copy()\n",
    "raw_ieeg.pick_types(eeg=True)\n",
    "ch_pairs = list(zip(raw_ieeg.info['ch_names'][:-1],\n",
    "                    raw_ieeg.info['ch_names'][1:]))\n",
    "\n",
    "# Make a list of channels for the anode and the cathode\n",
    "anode = []\n",
    "cathode = []\n",
    "# Only subtract channels with the same device name (these will be\n",
    "# close in space). This is still not ideal as we are probably\n",
    "# subtracting electrodes that are far away from one another in \n",
    "# space (for example, electrodes 8 and 9 on the grid picture\n",
    "# above should not be used for a bipolar reference)\n",
    "for pair in ch_pairs:\n",
    "    # get rid of the numbers in the ch_name\n",
    "    ch1_dev = re.sub(r'\\d+', '', pair[0]) \n",
    "    ch2_dev = re.sub(r'\\d+', '', pair[1]) \n",
    "    # if these are part of the same device, consider them for \n",
    "    # anode and cathode selection\n",
    "    if ch1_dev == ch2_dev:\n",
    "        anode.append(pair[0])\n",
    "        cathode.append(pair[1])\n",
    "\n",
    "# Apply the bipolar reference\n",
    "raw_ref_bip = mne.set_bipolar_reference(raw, anode=anode, cathode=cathode)\n",
    "raw_ref_bip.plot(scalings='auto', color=dict(eeg='b', ecog='b'), n_channels=64, block=True)"
   ]
  },
  {
   "cell_type": "markdown",
   "id": "1e0d048c-f4c1-4a1c-9f80-2bf4906724d3",
   "metadata": {},
   "source": [
    "# Now let's look at other types of artifacts that you may encounter while preprocessing intracranial data"
   ]
  },
  {
   "cell_type": "code",
   "execution_count": null,
   "id": "cb7a55f7-60e3-43a9-8a54-61257979b6ae",
   "metadata": {},
   "outputs": [],
   "source": [
    "#We're going to start by loading another patient from our BIDS data\n",
    "\n",
    "\n",
    "subj = 'W1'\n",
    "sess = 'iemu'\n",
    "task = 'movietrailers'\n",
    "acq = 'B3'\n",
    "run = '01'\n",
    "\n",
    "# Change the data directory below to where your data are located. \n",
    "parent_dir = 'data/ds004993'  # This is on your local machine\n",
    "\n",
    "\n",
    "\n",
    "ieeg_dir_epi = f'{parent_dir}/sub-{subj}/ses-{sess}/ieeg/'\n",
    "channel_path_epi = f'{ieeg_dir_epi}/sub-{subj}_ses-{sess}_task-{task}_acq-{acq}_run-{run}_channels.tsv'\n",
    "raw_path_epi = f'{ieeg_dir_epi}/sub-{subj}_ses-{sess}_task-{task}_acq-{acq}_run-{run}_ieeg.edf'\n",
    "\n",
    "\n",
    "bids_path_epi = get_bids_path_from_fname(raw_path_epi)\n",
    "base_name_epi = os.path.basename(raw_path_epi).split('.')[0]\n",
    "\n",
    "print(bids_path_epi)\n",
    "print(raw_path_epi)\n"
   ]
  },
  {
   "cell_type": "markdown",
   "id": "f5e83c5b-adc3-4815-8c23-2b11a6a5b8ff",
   "metadata": {},
   "source": [
    "## This specific block of data will show what seizure activity looks like:"
   ]
  },
  {
   "cell_type": "code",
   "execution_count": null,
   "id": "1dcaa967",
   "metadata": {},
   "outputs": [],
   "source": [
    "# Plot the data, reject bad segments. Look for times where there\n",
    "# are spike wave discharges (epileptiform artifacts) or large\n",
    "# movement artifacts. Be selective, look out for blocks with a \n",
    "# ton of seizure activity\n",
    "\n",
    "print(raw_path_epi)\n",
    "raw_epi = mne.io.read_raw_edf(raw_path_epi, preload=True)\n",
    "raw_epi.plot(scalings='auto', color=dict(eeg='b', ecog='b'), n_channels=64, block=True)"
   ]
  },
  {
   "cell_type": "markdown",
   "id": "57b30ea3-dbdb-45d9-b561-3f73a2bf1ce5",
   "metadata": {},
   "source": [
    "## Epileptiform activity\n",
    "\n",
    "This is an example in one patient who is having a seizuring during one of our tasks. From this picture and the data you were able to scroll through above, you can see that there is a cyclical pattern of noise that is across all channels. In these cases,  you would not reject these channels only. Instead, you unfortunately would have to eliminate this particular recording block from your analysis. \n",
    "\n",
    "![epileptic artifact](epileptic_artifact.jpeg)\n"
   ]
  },
  {
   "cell_type": "markdown",
   "id": "7a109679-1b4d-4cf8-b391-a8bcf1cfbbdb",
   "metadata": {},
   "source": [
    "## Vagus Nerve stimulator (VNS) artifact \n",
    "\n",
    "When working with intractable epilepsy patients, one of the factors that may create artifacts can arise from a [VNS device](https://www.epilepsy.com/treatment/devices/vagus-nerve-stimulation-therapy). In short, a VNS is a type of neuromodulation that delivers stimulation to the brain to specific parts of the brain that may cause epilepsy. Not all patients have a VNS, but you are working with a patient who does, we have found that there can be 20 Hz noise that appears when collecting data in the EMU. Let's take a look at an example."
   ]
  },
  {
   "cell_type": "code",
   "execution_count": null,
   "id": "8173c639-74ba-46c3-91d4-e693e36df37f",
   "metadata": {},
   "outputs": [],
   "source": [
    "#We are going to load another patient's data that is stored in our BIDS dataset.  \n",
    "\n",
    "subj = 'W3'\n",
    "sess = 'iemu'\n",
    "task = 'timit4'\n",
    "acq = 'B8'\n",
    "run = '01'\n",
    "parent_dir = 'data/ds004993'  # This is on your local machine\n",
    "\n",
    "print(parent_dir)\n",
    "ieeg_dir_vns = f'{parent_dir}/sub-{subj}/ses-{sess}/ieeg/'\n",
    "channel_path_vns = f'{ieeg_dir_vns}/sub-{subj}_ses-{sess}_task-{task}_acq-{acq}_run-{run}_channels.tsv'\n",
    "raw_path_vns = f'{ieeg_dir_vns}/sub-{subj}_ses-{sess}_task-{task}_acq-{acq}_run-{run}_ieeg.edf'\n",
    "\n",
    "\n",
    "bids_path_vns = get_bids_path_from_fname(raw_path_vns)\n",
    "base_name_vns = os.path.basename(raw_path_vns).split('.')[0]\n",
    "\n",
    "print(raw_path_vns)\n",
    "print(base_name_vns)\n"
   ]
  },
  {
   "cell_type": "code",
   "execution_count": null,
   "id": "a290839d-95b8-4352-a27f-c9984ca0bbf5",
   "metadata": {},
   "outputs": [],
   "source": [
    "# Plot the data, reject bad segments. Look for times where there\n",
    "# are spike wave discharges (epileptiform artifacts) or large\n",
    "# movement artifacts. Be selective, look out for blocks with a \n",
    "# ton of seizure activity\n",
    "\n",
    "print(raw_path_vns)\n",
    "raw_vns = mne.io.read_raw_edf(raw_path_vns, preload=True)\n",
    "#raw_vns.plot(scalings='auto', color=dict(eeg='b', ecog='b'), n_channels=64, block=True)"
   ]
  },
  {
   "cell_type": "markdown",
   "id": "f7e597ff-ffcd-4627-9488-441f99f64bd6",
   "metadata": {},
   "source": [
    "## VNS electrical activity\n",
    "\n",
    "This is an example in one patient that has electrical artifact from their VNS system\n",
    "\n",
    "![VNS artifact](vns_artifact.jpeg)\n"
   ]
  },
  {
   "cell_type": "code",
   "execution_count": null,
   "id": "957cd383-83a9-4e24-8cdb-1bd2e534c756",
   "metadata": {},
   "outputs": [],
   "source": [
    "raw_vns.compute_psd().plot(picks='data', exclude=[]);"
   ]
  },
  {
   "cell_type": "markdown",
   "id": "247dcbb7-2dd8-4106-beb4-e048cfc1ea26",
   "metadata": {},
   "source": [
    "## VNS power spectrum\n",
    "\n",
    "When we plot the power spectrum, we see consistent 20 Hz noise which is from the VNS neurostimulator. \n",
    "\n",
    "![VNS power spectrum](vns_power_spectrum.jpeg)\n"
   ]
  },
  {
   "cell_type": "markdown",
   "id": "fc30cebe-6073-4edf-848a-cff899e225e5",
   "metadata": {},
   "source": [
    "## If you see electrical artifact from a VNS, such as this example, you don't need to reject every single time point when you plot the neural data for artifact rejection. Instead, performing referencing by using a common average reference (CAR) will help to eliminate this noise."
   ]
  },
  {
   "cell_type": "markdown",
   "id": "545256a0",
   "metadata": {},
   "source": [
    "## Want to plot some evoked data? \n",
    "\n",
    "Go to Part 2! [02_ieeg_preprocessing_MNE_epochs.ipynb](02_ieeg_preprocessing_MNE_epochs.ipynb)"
   ]
  },
  {
   "cell_type": "code",
   "execution_count": null,
   "id": "36d11252-2898-432a-8e41-cf2037b5d2e8",
   "metadata": {},
   "outputs": [],
   "source": []
  }
 ],
 "metadata": {
  "kernelspec": {
   "display_name": "Python 3 (ipykernel)",
   "language": "python",
   "name": "python3"
  },
  "language_info": {
   "codemirror_mode": {
    "name": "ipython",
    "version": 3
   },
   "file_extension": ".py",
   "mimetype": "text/x-python",
   "name": "python",
   "nbconvert_exporter": "python",
   "pygments_lexer": "ipython3",
   "version": "3.11.5"
  }
 },
 "nbformat": 4,
 "nbformat_minor": 5
}
